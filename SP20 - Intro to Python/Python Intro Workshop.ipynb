{
 "cells": [
  {
   "cell_type": "code",
   "execution_count": 4,
   "metadata": {},
   "outputs": [],
   "source": [
    "# This is a Jupyter notebook file\n",
    "# The boxes are called 'cells'\n",
    "# to run a cell, make sure it is highlighted, and click the 'run' button"
   ]
  },
  {
   "cell_type": "code",
   "execution_count": 3,
   "metadata": {},
   "outputs": [],
   "source": [
    "# this is a comment"
   ]
  },
  {
   "cell_type": "code",
   "execution_count": null,
   "metadata": {},
   "outputs": [],
   "source": [
    "# print function\n",
    "# \"Hello World!\" is a string - you can tell bc it is surrounded by quotes\n",
    "print(\"Hello World!\")"
   ]
  },
  {
   "cell_type": "code",
   "execution_count": null,
   "metadata": {},
   "outputs": [],
   "source": [
    "# printing an integer\n",
    "print(3)"
   ]
  },
  {
   "cell_type": "code",
   "execution_count": null,
   "metadata": {},
   "outputs": [],
   "source": [
    "print(\"Hello again\")"
   ]
  },
  {
   "cell_type": "code",
   "execution_count": null,
   "metadata": {},
   "outputs": [],
   "source": [
    "# can combine things in one cell\n",
    "print(3)\n",
    "print(\"Hello again\")"
   ]
  },
  {
   "cell_type": "code",
   "execution_count": null,
   "metadata": {},
   "outputs": [],
   "source": []
  },
  {
   "cell_type": "code",
   "execution_count": 5,
   "metadata": {},
   "outputs": [],
   "source": [
    "# variables\n",
    "# assign value 1 to variable a\n",
    "# this is an int\n",
    "a = 1"
   ]
  },
  {
   "cell_type": "code",
   "execution_count": null,
   "metadata": {},
   "outputs": [],
   "source": [
    "# assign True to variable foo \n",
    "foo = True\n",
    "# this is a boolean variable"
   ]
  },
  {
   "cell_type": "code",
   "execution_count": null,
   "metadata": {},
   "outputs": [],
   "source": [
    "print(a)"
   ]
  },
  {
   "cell_type": "code",
   "execution_count": null,
   "metadata": {},
   "outputs": [],
   "source": [
    "a = 1\n",
    "print(a)"
   ]
  },
  {
   "cell_type": "code",
   "execution_count": null,
   "metadata": {},
   "outputs": [],
   "source": [
    "greeting = \"hello from a string\"\n",
    "print(greeting)"
   ]
  },
  {
   "cell_type": "code",
   "execution_count": null,
   "metadata": {},
   "outputs": [],
   "source": [
    "# can change values of variables\n",
    "# can swap values of variables"
   ]
  },
  {
   "cell_type": "code",
   "execution_count": null,
   "metadata": {},
   "outputs": [],
   "source": [
    "# try printing unassigned variable"
   ]
  },
  {
   "cell_type": "code",
   "execution_count": null,
   "metadata": {},
   "outputs": [],
   "source": []
  },
  {
   "cell_type": "code",
   "execution_count": 7,
   "metadata": {},
   "outputs": [
    {
     "name": "stdout",
     "output_type": "stream",
     "text": [
      "a is not less than b\n",
      "this will always run\n"
     ]
    }
   ],
   "source": [
    "# if - else - else if (elif) statements\n",
    "a = 2\n",
    "b = 2\n",
    "if a <= b:\n",
    "    print('a is less than or equal to b')\n",
    "    if a == b:\n",
    "        print('a is equal to b')\n",
    "    else: \n",
    "        print('a is not equal to b')\n",
    "elif a > b:\n",
    "    print('a is greater than b')\n",
    "else:\n",
    "    print('a is equal to b')\n",
    "print(\"this will always print\")"
   ]
  },
  {
   "cell_type": "code",
   "execution_count": null,
   "metadata": {},
   "outputs": [],
   "source": [
    "# Python Comparison Operators\n",
    "# Equal: ==\n",
    "# Not equal: !=\n",
    "# Greater than: >\n",
    "# Less than: <\n",
    "# Greater than or equal to: >=\n",
    "# Less than or equal to: <="
   ]
  },
  {
   "cell_type": "code",
   "execution_count": null,
   "metadata": {},
   "outputs": [],
   "source": [
    "a = \"hi\"\n",
    "b = \"hello\"\n",
    "if a != b:\n",
    "    print('a is not equal to b')\n",
    "else:\n",
    "    print('a is equal to b')"
   ]
  },
  {
   "cell_type": "code",
   "execution_count": null,
   "metadata": {},
   "outputs": [],
   "source": [
    "# nested "
   ]
  },
  {
   "cell_type": "code",
   "execution_count": null,
   "metadata": {},
   "outputs": [],
   "source": [
    "# Harry Potter Sorting Tree!"
   ]
  },
  {
   "cell_type": "code",
   "execution_count": null,
   "metadata": {},
   "outputs": [],
   "source": [
    "emotional = False\n",
    "brave = False\n",
    "cunning = False\n",
    "\n",
    "if emotional == True:\n",
    "    if brave == True:\n",
    "        print(\"Gryffindor\")\n",
    "    else:\n",
    "        print(\"Hufflepuff\")\n",
    "else:\n",
    "    if cunning == True:\n",
    "        print(\"Slytherin\")\n",
    "    else:\n",
    "        print(\"Ravenclaw\")"
   ]
  },
  {
   "cell_type": "code",
   "execution_count": null,
   "metadata": {},
   "outputs": [],
   "source": [
    "e = False\n",
    "b = False\n",
    "c = False\n",
    "if(e):\n",
    "    if(b):\n",
    "        print('Gryffindor!')\n",
    "    else:\n",
    "        print('Hufflepuff!')\n",
    "elif(e == False):\n",
    "    if(c):\n",
    "        print('Slytherin!')\n",
    "    else:\n",
    "        print('Ravenclaw!')\n",
    "else:\n",
    "    print('Neither')"
   ]
  },
  {
   "cell_type": "code",
   "execution_count": null,
   "metadata": {},
   "outputs": [],
   "source": [
    "# Arithmetic Operators\n",
    "# Addition +\n",
    "# Subtraction -\n",
    "# Multiplication *\n",
    "# Division /\n",
    "# Exponent **"
   ]
  },
  {
   "cell_type": "code",
   "execution_count": null,
   "metadata": {},
   "outputs": [],
   "source": [
    "# favorite formula"
   ]
  },
  {
   "cell_type": "code",
   "execution_count": 31,
   "metadata": {},
   "outputs": [],
   "source": [
    "import math"
   ]
  },
  {
   "cell_type": "code",
   "execution_count": null,
   "metadata": {},
   "outputs": [],
   "source": [
    "print(math.sqrt(2))"
   ]
  },
  {
   "cell_type": "code",
   "execution_count": 2,
   "metadata": {},
   "outputs": [],
   "source": [
    "# function: collection of instructions\n",
    "# function definition:\n",
    "def my_function_name():\n",
    "    print(\"Hello world\")"
   ]
  },
  {
   "cell_type": "code",
   "execution_count": 3,
   "metadata": {},
   "outputs": [
    {
     "name": "stdout",
     "output_type": "stream",
     "text": [
      "Hello world\n"
     ]
    }
   ],
   "source": [
    "# calling the defined function:\n",
    "my_function_name()"
   ]
  },
  {
   "cell_type": "code",
   "execution_count": 4,
   "metadata": {},
   "outputs": [],
   "source": [
    "# You can have functions with multiple parameters too\n",
    "def another_function(a, b):\n",
    "    print(a+b)"
   ]
  },
  {
   "cell_type": "code",
   "execution_count": 6,
   "metadata": {},
   "outputs": [
    {
     "name": "stdout",
     "output_type": "stream",
     "text": [
      "7\n"
     ]
    }
   ],
   "source": [
    "another_function(3, 4)"
   ]
  },
  {
   "cell_type": "code",
   "execution_count": 7,
   "metadata": {},
   "outputs": [
    {
     "ename": "TypeError",
     "evalue": "another_function() missing 2 required positional arguments: 'a' and 'b'",
     "output_type": "error",
     "traceback": [
      "\u001b[0;31m---------------------------------------------------------------------------\u001b[0m",
      "\u001b[0;31mTypeError\u001b[0m                                 Traceback (most recent call last)",
      "\u001b[0;32m<ipython-input-7-6547c74ede6f>\u001b[0m in \u001b[0;36m<module>\u001b[0;34m\u001b[0m\n\u001b[1;32m      1\u001b[0m \u001b[0;31m# call function without arg for error\u001b[0m\u001b[0;34m\u001b[0m\u001b[0;34m\u001b[0m\u001b[0;34m\u001b[0m\u001b[0m\n\u001b[0;32m----> 2\u001b[0;31m \u001b[0manother_function\u001b[0m\u001b[0;34m(\u001b[0m\u001b[0;34m)\u001b[0m\u001b[0;34m\u001b[0m\u001b[0;34m\u001b[0m\u001b[0m\n\u001b[0m",
      "\u001b[0;31mTypeError\u001b[0m: another_function() missing 2 required positional arguments: 'a' and 'b'"
     ]
    }
   ],
   "source": [
    "# call function without arg for error\n",
    "another_function()\n",
    "# always have to have the right number of arguments"
   ]
  },
  {
   "cell_type": "code",
   "execution_count": 8,
   "metadata": {},
   "outputs": [],
   "source": [
    "# \"return\" and assignment \n",
    "def give_me_multiplication(a, b):\n",
    "    return a*b"
   ]
  },
  {
   "cell_type": "code",
   "execution_count": 10,
   "metadata": {},
   "outputs": [],
   "source": [
    "result = give_me_multiplication(5, 6)"
   ]
  },
  {
   "cell_type": "code",
   "execution_count": 11,
   "metadata": {},
   "outputs": [
    {
     "name": "stdout",
     "output_type": "stream",
     "text": [
      "30\n"
     ]
    }
   ],
   "source": [
    "print(result)"
   ]
  },
  {
   "cell_type": "code",
   "execution_count": 4,
   "metadata": {},
   "outputs": [],
   "source": [
    "# nested lists\n",
    "# mixed types\n",
    "# .pop()\n",
    "# indexing\n",
    "# assign by index\n",
    "# len(thislist)"
   ]
  },
  {
   "cell_type": "code",
   "execution_count": 12,
   "metadata": {},
   "outputs": [
    {
     "name": "stdout",
     "output_type": "stream",
     "text": [
      "[1, 2, 3]\n"
     ]
    }
   ],
   "source": [
    "# lists \n",
    "a = [1, 2, 3]\n",
    "print(a)\n",
    "a.append(4)"
   ]
  },
  {
   "cell_type": "code",
   "execution_count": 13,
   "metadata": {},
   "outputs": [
    {
     "name": "stdout",
     "output_type": "stream",
     "text": [
      "[1, 2, 3, 4, 4]\n",
      "4\n",
      "[1, 2, 3, 4]\n",
      "3\n"
     ]
    }
   ],
   "source": [
    "a.append(4)\n",
    "print(a)"
   ]
  },
  {
   "cell_type": "code",
   "execution_count": null,
   "metadata": {},
   "outputs": [],
   "source": [
    "print(a.pop())\n",
    "\n",
    "print(a)"
   ]
  },
  {
   "cell_type": "code",
   "execution_count": null,
   "metadata": {},
   "outputs": [],
   "source": [
    "print(a[2])"
   ]
  },
  {
   "cell_type": "code",
   "execution_count": 15,
   "metadata": {},
   "outputs": [
    {
     "name": "stdout",
     "output_type": "stream",
     "text": [
      "1\n",
      "2\n",
      "3\n",
      "4\n",
      "5\n",
      "6\n",
      "7\n",
      "8\n",
      "9\n",
      "10\n"
     ]
    }
   ],
   "source": [
    "#while loops\n",
    "i = 0\n",
    "while i < 10:\n",
    "    i += 1\n",
    "    print(i)"
   ]
  },
  {
   "cell_type": "code",
   "execution_count": 6,
   "metadata": {},
   "outputs": [
    {
     "name": "stdout",
     "output_type": "stream",
     "text": [
      "1\n",
      "[1, 2, 3, 4]\n",
      "2\n",
      "[1, 2, 3, 4]\n",
      "3\n",
      "[1, 2, 3, 4]\n",
      "4\n",
      "[1, 2, 3, 4]\n"
     ]
    }
   ],
   "source": [
    "# for loops - for each\n",
    "for element in a:\n",
    "    print(element)\n",
    "    print(a)"
   ]
  },
  {
   "cell_type": "code",
   "execution_count": 16,
   "metadata": {},
   "outputs": [
    {
     "name": "stdout",
     "output_type": "stream",
     "text": [
      "0\n",
      "1\n",
      "2\n",
      "3\n",
      "4\n",
      "5\n"
     ]
    }
   ],
   "source": [
    "for x in range(6):\n",
    "    print(x)"
   ]
  },
  {
   "cell_type": "code",
   "execution_count": 30,
   "metadata": {},
   "outputs": [
    {
     "name": "stdout",
     "output_type": "stream",
     "text": [
      "time #: 0\n",
      "x is: 1\n",
      "y is: 0\n",
      "time #: 1\n",
      "x is: 1\n",
      "y is: 1\n",
      "time #: 2\n",
      "x is: 1\n",
      "y is: 2\n",
      "time #: 3\n",
      "x is: 1\n",
      "y is: 3\n",
      "time #: 4\n",
      "x is: 1\n",
      "y is: 4\n",
      "time #: 5\n",
      "x is: 2\n",
      "y is: 0\n",
      "time #: 6\n",
      "x is: 2\n",
      "y is: 1\n",
      "time #: 7\n",
      "x is: 2\n",
      "y is: 2\n",
      "time #: 8\n",
      "x is: 2\n",
      "y is: 3\n",
      "time #: 9\n",
      "x is: 2\n",
      "y is: 4\n",
      "time #: 10\n",
      "x is: 3\n",
      "y is: 0\n",
      "time #: 11\n",
      "x is: 3\n",
      "y is: 1\n",
      "time #: 12\n",
      "x is: 3\n",
      "y is: 2\n",
      "time #: 13\n",
      "x is: 3\n",
      "y is: 3\n",
      "time #: 14\n",
      "x is: 3\n",
      "y is: 4\n",
      "time #: 15\n",
      "x is: 4\n",
      "y is: 0\n",
      "time #: 16\n",
      "x is: 4\n",
      "y is: 1\n",
      "time #: 17\n",
      "x is: 4\n",
      "y is: 2\n",
      "time #: 18\n",
      "x is: 4\n",
      "y is: 3\n",
      "time #: 19\n",
      "x is: 4\n",
      "y is: 4\n"
     ]
    }
   ],
   "source": [
    "# nested for loops\n",
    "i = 0\n",
    "for x in range(0, 5):\n",
    "    for y in range(5):\n",
    "        print(\"time #:\", i)\n",
    "        print(\"x is:\", x)\n",
    "        print(\"y is:\", y)\n",
    "        i += 1"
   ]
  }
 ],
 "metadata": {
  "kernelspec": {
   "display_name": "Python 3",
   "language": "python",
   "name": "python3"
  },
  "language_info": {
   "codemirror_mode": {
    "name": "ipython",
    "version": 3
   },
   "file_extension": ".py",
   "mimetype": "text/x-python",
   "name": "python",
   "nbconvert_exporter": "python",
   "pygments_lexer": "ipython3",
   "version": "3.7.4"
  }
 },
 "nbformat": 4,
 "nbformat_minor": 2
}
